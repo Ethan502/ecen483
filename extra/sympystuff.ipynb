{
 "cells": [
  {
   "cell_type": "code",
   "execution_count": 2,
   "metadata": {},
   "outputs": [],
   "source": [
    "import sympy as sym\n",
    "from sympy import *\n"
   ]
  },
  {
   "cell_type": "code",
   "execution_count": 80,
   "metadata": {},
   "outputs": [],
   "source": [
    "init_printing()\n",
    "x = symbols('x')\n",
    "y = symbols('y')\n",
    "s = symbols('s')\n",
    "p_1 = symbols('p_1') # p lon\n",
    "p_2 = symbols('p_2') # p lat\n",
    "omega_1 = symbols('omega_1') # omega theta\n",
    "omega_2 = symbols('omega_2') # omega phi\n",
    "omega_3 = symbols('omega_3') # omega psi\n",
    "zeta_1 = symbols('zeta_1')\n",
    "zeta_2 = symbols('zeta_2')\n",
    "zeta_3 = symbols('zeta_3')\n",
    "b = symbols('b')\n",
    "f = symbols('f')\n",
    "x = symbols('x')"
   ]
  },
  {
   "cell_type": "code",
   "execution_count": 75,
   "metadata": {},
   "outputs": [
    {
     "name": "stdout",
     "output_type": "stream",
     "text": [
      "  2                             3    2               \n",
      "ω₁ ⋅p₁ + ω₁⋅s⋅(ω₁ + 2⋅p₁⋅ζ₁) + s  + s ⋅(2⋅ω₁⋅ζ₁ + p₁)\n",
      "2⋅ω₁⋅ζ₁ + p₁\n",
      "ω₁⋅(ω₁ + 2⋅p₁⋅ζ₁)\n",
      "  2   \n",
      "ω₁ ⋅p₁\n"
     ]
    }
   ],
   "source": [
    "# Do this for the longitudinal matrix\n",
    "f = Eq(s**2 + 2*zeta_1*omega_1*s + omega_1**2,0)\n",
    "g = Eq(s+p_1,0)\n",
    "product = Eq(Mul(f.lhs,g.lhs),0)\n",
    "expanded = expand(product.lhs)\n",
    "collected = collect(expanded,s)\n",
    "simp = simplify(collected)\n",
    "pprint(simp)\n",
    "alpha1_long = simp.coeff(s,2)\n",
    "alpha2_long = simp.coeff(s,1)\n",
    "alpha3_long = simp.coeff(s,0)\n",
    "pprint(alpha1_long)\n",
    "pprint(alpha2_long)\n",
    "pprint(alpha3_long)"
   ]
  },
  {
   "cell_type": "code",
   "execution_count": 76,
   "metadata": {},
   "outputs": [
    {
     "name": "stdout",
     "output_type": "stream",
     "text": [
      "  2   2       5    4                             3 ⎛  2                       \n",
      "ω₂ ⋅ω₃ ⋅p₂ + s  + s ⋅(2⋅ω₂⋅ζ₂ + 2⋅ω₃⋅ζ₃ + p₂) + s ⋅⎝ω₂  + 4⋅ω₂⋅ω₃⋅ζ₂⋅ζ₃ + 2⋅ω₂\n",
      "\n",
      "           2             ⎞    2 ⎛    2           2             2              \n",
      "⋅p₂⋅ζ₂ + ω₃  + 2⋅ω₃⋅p₂⋅ζ₃⎠ + s ⋅⎝2⋅ω₂ ⋅ω₃⋅ζ₃ + ω₂ ⋅p₂ + 2⋅ω₂⋅ω₃ ⋅ζ₂ + 4⋅ω₂⋅ω₃⋅\n",
      "\n",
      "             2   ⎞     ⎛  2   2       2                   2      ⎞\n",
      "p₂⋅ζ₂⋅ζ₃ + ω₃ ⋅p₂⎠ + s⋅⎝ω₂ ⋅ω₃  + 2⋅ω₂ ⋅ω₃⋅p₂⋅ζ₃ + 2⋅ω₂⋅ω₃ ⋅p₂⋅ζ₂⎠\n"
     ]
    }
   ],
   "source": [
    "f = Eq(s**2 + 2*zeta_2*omega_2*s + omega_2**2,0)\n",
    "h = Eq(s**2 + 2*zeta_3*omega_3*s + omega_3**2,0)\n",
    "g = Eq(s+p_2,0)\n",
    "product1 = Eq(Mul(f.lhs,h.lhs,g.lhs),0)\n",
    "simp_2 = collect(expand(product1.lhs),s)\n",
    "pprint(simp_2)\n",
    "alpha1_lat = simp_2.coeff(s,4)\n",
    "alpha2_lat = simp_2.coeff(s,3)\n",
    "alpha3_lat = simp_2.coeff(s,2)\n",
    "alpha4_lat = simp_2.coeff(s,1)\n",
    "alpha5_lat = simp_2.coeff(s,0)"
   ]
  },
  {
   "cell_type": "code",
   "execution_count": 77,
   "metadata": {},
   "outputs": [
    {
     "name": "stdout",
     "output_type": "stream",
     "text": [
      "⎡2⋅ω₁⋅ζ₁ + p₁                       2   ⎤\n",
      "⎢────────────  ω₁⋅(ω₁ + 2⋅p₁⋅ζ₁)  ω₁ ⋅p₁⎥\n",
      "⎣     b                                 ⎦\n",
      "Matrix([[(2*omega_1*zeta_1 + p_1)/b, omega_1*(omega_1 + 2*p_1*zeta_1), omega_1**2*p_1]])\n"
     ]
    }
   ],
   "source": [
    "alpha_lon = Matrix([[alpha1_long,alpha2_long,alpha3_long]])\n",
    "A_long = Matrix([[1,0,0],\n",
    "                 [0,1,0],\n",
    "                 [0,0,1]])\n",
    "C_inv_lon = Matrix([[0,1,0],\n",
    "                    [1/b,0,0],\n",
    "                    [0,0,1]])\n",
    "\n",
    "result = alpha_lon * A_long * C_inv_lon\n",
    "pprint(result)\n",
    "print(result)"
   ]
  },
  {
   "cell_type": "code",
   "execution_count": 82,
   "metadata": {},
   "outputs": [
    {
     "name": "stdout",
     "output_type": "stream",
     "text": [
      "⎡                                                       ⎛  2   2       2      \n",
      "⎢  2                                  2               x⋅⎝ω₂ ⋅ω₃  + 2⋅ω₂ ⋅ω₃⋅p₂\n",
      "⎢ω₂  + 4⋅ω₂⋅ω₃⋅ζ₂⋅ζ₃ + 2⋅ω₂⋅p₂⋅ζ₂ + ω₃  + 2⋅ω₃⋅p₂⋅ζ₃  ────────────────────────\n",
      "⎣                                                                           f \n",
      "\n",
      "             2      ⎞                                ⎛    2           2       \n",
      "⋅ζ₃ + 2⋅ω₂⋅ω₃ ⋅p₂⋅ζ₂⎠                              x⋅⎝2⋅ω₂ ⋅ω₃⋅ζ₃ + ω₂ ⋅p₂ + 2\n",
      "─────────────────────  x⋅(2⋅ω₂⋅ζ₂ + 2⋅ω₃⋅ζ₃ + p₂)  ───────────────────────────\n",
      "                                                                              \n",
      "\n",
      "      2                           2   ⎞     2   2      ⎤\n",
      "⋅ω₂⋅ω₃ ⋅ζ₂ + 4⋅ω₂⋅ω₃⋅p₂⋅ζ₂⋅ζ₃ + ω₃ ⋅p₂⎠  -ω₂ ⋅ω₃ ⋅p₂⋅x ⎥\n",
      "───────────────────────────────────────  ──────────────⎥\n",
      "     f                                         f       ⎦\n",
      "Matrix([[omega_2**2 + 4*omega_2*omega_3*zeta_2*zeta_3 + 2*omega_2*p_2*zeta_2 + omega_3**2 + 2*omega_3*p_2*zeta_3, x*(omega_2**2*omega_3**2 + 2*omega_2**2*omega_3*p_2*zeta_3 + 2*omega_2*omega_3**2*p_2*zeta_2)/f, x*(2*omega_2*zeta_2 + 2*omega_3*zeta_3 + p_2), x*(2*omega_2**2*omega_3*zeta_3 + omega_2**2*p_2 + 2*omega_2*omega_3**2*zeta_2 + 4*omega_2*omega_3*p_2*zeta_2*zeta_3 + omega_3**2*p_2)/f, -omega_2**2*omega_3**2*p_2*x/f]])\n",
      "omega_2**2*omega_3**2*p_2\n"
     ]
    }
   ],
   "source": [
    "alpha_lat = Matrix([[alpha1_lat,alpha2_lat,alpha3_lat,alpha4_lat,alpha5_lat]])\n",
    "A_lat = Matrix([[1,0,0,0,0],\n",
    "                 [0,1,0,0,0],\n",
    "                 [0,0,1,0,0],\n",
    "                 [0,0,0,1,0],\n",
    "                 [0,0,0,0,1]])\n",
    "C_inv_lat = Matrix([[0,0,x,0,0],\n",
    "                    [1,0,0,0,0],\n",
    "                    [0,0,0,x/f,0],\n",
    "                    [0,x/f,0,0,0],\n",
    "                    [0,0,0,0,-x/f]])\n",
    "result = alpha_lat * A_lat * C_inv_lat\n",
    "pprint(result)\n",
    "print(result)\n",
    "print(alpha5_lat)"
   ]
  }
 ],
 "metadata": {
  "kernelspec": {
   "display_name": "controls",
   "language": "python",
   "name": "python3"
  },
  "language_info": {
   "codemirror_mode": {
    "name": "ipython",
    "version": 3
   },
   "file_extension": ".py",
   "mimetype": "text/x-python",
   "name": "python",
   "nbconvert_exporter": "python",
   "pygments_lexer": "ipython3",
   "version": "3.11.4"
  }
 },
 "nbformat": 4,
 "nbformat_minor": 2
}
